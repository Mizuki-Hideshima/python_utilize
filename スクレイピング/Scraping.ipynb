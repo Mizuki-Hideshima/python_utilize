{
 "cells": [
  {
   "cell_type": "code",
   "execution_count": 2,
   "metadata": {},
   "outputs": [],
   "source": [
    "from bs4 import BeautifulSoup\n",
    "import requests"
   ]
  },
  {
   "cell_type": "code",
   "execution_count": 11,
   "metadata": {},
   "outputs": [],
   "source": [
    "# HTMLを取得\n",
    "res = requests.get('https://www.orangepage.net/recipes/search/6')\n",
    "soup = BeautifulSoup(res.text, 'html.parser')"
   ]
  },
  {
   "cell_type": "code",
   "execution_count": 13,
   "metadata": {},
   "outputs": [
    {
     "name": "stdout",
     "output_type": "stream",
     "text": [
      "['食材から探す', 'にんじん', 'じゃがいもとにんじんのきんぴら', 'にんじんの炊き込みご飯', '大根とにんじんのみそ汁', '鶏胸肉の甘辛照り丼', 'ピリ辛から揚げ', 'にんじんのグラッセ', 'キャロットケーキ', 'にんじんのきんぴら', 'にんじんのチヂミ ', 'きゅうりとにんじんのサラダ', 'のっぺい汁', 'にんじんのごまあえ', 'じゃがいもとにんじんのきんぴら', 'にんじんの炊き込みご飯', '大根とにんじんのみそ汁', '鶏胸肉の甘辛照り丼', 'ピリ辛から揚げ', 'にんじんのグラッセ', 'キャロットケーキ', 'にんじんのきんぴら', 'にんじんのチヂミ ', 'きゅうりとにんじんのサラダ', 'のっぺい汁', 'にんじんのごまあえ', None, None, None, None, 'SPECIAL TOPICS', None, None, None]\n"
     ]
    }
   ],
   "source": [
    "# h2タグを取得\n",
    "h2_tags = soup.find_all('h2')\n",
    "h2_strings = [x.string for x in h2_tags]\n",
    "print(h2_strings)"
   ]
  },
  {
   "cell_type": "code",
   "execution_count": 20,
   "metadata": {},
   "outputs": [
    {
     "name": "stdout",
     "output_type": "stream",
     "text": [
      "['人気レシピランキング']\n"
     ]
    }
   ],
   "source": [
    "# 子要素のテキストを抽出\n",
    "print([x for x in h2_tags[28].stripped_strings])"
   ]
  },
  {
   "cell_type": "code",
   "execution_count": 21,
   "metadata": {},
   "outputs": [
    {
     "data": {
      "text/plain": [
       "<h2 class=\"recipesSliderTit\"><img alt=\"\" src=\"/assets/crown-ed7dc1eb496fd39a1c20784e5ba984da4f7e1a6ee2c2d1ffb0b591051a4a6a6d.png\"/>人気レシピランキング</h2>"
      ]
     },
     "execution_count": 21,
     "metadata": {},
     "output_type": "execute_result"
    }
   ],
   "source": [
    "h2_tags[28]"
   ]
  },
  {
   "cell_type": "code",
   "execution_count": 24,
   "metadata": {},
   "outputs": [
    {
     "name": "stdout",
     "output_type": "stream",
     "text": [
      "['じゃがいもとにんじんのきんぴら', 'にんじんの炊き込みご飯', '大根とにんじんのみそ汁', '鶏胸肉の甘辛照り丼', 'ピリ辛から揚げ', 'にんじんのグラッセ', 'キャロットケーキ', 'にんじんのきんぴら', 'にんじんのチヂミ ', 'きゅうりとにんじんのサラダ', 'のっぺい汁', 'にんじんのごまあえ']\n"
     ]
    }
   ],
   "source": [
    "#idとclassで取得\n",
    "recipes = soup.find('div', id = 'recipe_list', class_='recipesList recipesList--list active')\n",
    "p_tit_tags = recipes.find_all('h2', class_='tit')\n",
    "print([x.string for x in p_tit_tags])"
   ]
  },
  {
   "cell_type": "code",
   "execution_count": 26,
   "metadata": {},
   "outputs": [
    {
     "name": "stdout",
     "output_type": "stream",
     "text": [
      "['/recipes/detail_115163', '/recipes/detail_114623', '/recipes/detail_114049', '/recipes/detail_302560', '/recipes/detail_302904', '/recipes/detail_120796', '/recipes/detail_302374', '/recipes/detail_300550', '/recipes/detail_127478', '/recipes/detail_139554', '/recipes/detail_113985', '/recipes/detail_116531']\n"
     ]
    }
   ],
   "source": [
    "# 属性で取得（リンク先のURLを取得する際によく使用される）\n",
    "a_tag = recipes.find_all('a')\n",
    "print([x['href'] for x in a_tag])"
   ]
  },
  {
   "cell_type": "code",
   "execution_count": null,
   "metadata": {},
   "outputs": [],
   "source": []
  }
 ],
 "metadata": {
  "interpreter": {
   "hash": "31f2aee4e71d21fbe5cf8b01ff0e069b9275f58929596ceb00d14d90e3e16cd6"
  },
  "kernelspec": {
   "display_name": "Python 3.8.9 64-bit",
   "language": "python",
   "name": "python3"
  },
  "language_info": {
   "codemirror_mode": {
    "name": "ipython",
    "version": 3
   },
   "file_extension": ".py",
   "mimetype": "text/x-python",
   "name": "python",
   "nbconvert_exporter": "python",
   "pygments_lexer": "ipython3",
   "version": "3.8.9"
  },
  "orig_nbformat": 4
 },
 "nbformat": 4,
 "nbformat_minor": 2
}
