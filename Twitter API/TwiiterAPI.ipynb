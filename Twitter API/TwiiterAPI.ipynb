{
 "cells": [
  {
   "cell_type": "code",
   "execution_count": 1,
   "metadata": {},
   "outputs": [],
   "source": [
    "import json\n",
    "from requests_oauthlib import OAuth1Session"
   ]
  },
  {
   "cell_type": "code",
   "execution_count": 50,
   "metadata": {},
   "outputs": [],
   "source": [
    "CONSUMER_KEY = 'xlmuaRbVxudBIebPrAAho2Jjz'\n",
    "CUNSUMER_SECRET = 'MA7uBGhKsDHI9YO0a8RlQdPUBquFkAzuneKORqN1Z3vkwKEO7A'\n",
    "ACCESS_TOKEN = '3078548690-P015qyRxOdqrZgDZHiUbfFXpqYDSgr9qkFCCFvm'\n",
    "ACCESS_TOKEN_SECRET = 'Y0MD6KaplHw0AUVZmUpSOjBqsbBs9JX77WglVuVmlaO4I'"
   ]
  },
  {
   "cell_type": "code",
   "execution_count": 51,
   "metadata": {},
   "outputs": [],
   "source": [
    "twitter = OAuth1Session(CONSUMER_KEY, CUNSUMER_SECRET, ACCESS_TOKEN, ACCESS_TOKEN_SECRET)"
   ]
  },
  {
   "cell_type": "code",
   "execution_count": 52,
   "metadata": {},
   "outputs": [],
   "source": [
    "# タイムラインを取得してみる\n",
    "timeline_url = 'https://api.twitter.com/1.1/statuses/user_timeline.json'\n",
    "params = {'count':5}\n",
    "res = twitter.get(timeline_url, params=params)\n",
    "timelines = json.loads(res.text)"
   ]
  },
  {
   "cell_type": "code",
   "execution_count": 53,
   "metadata": {},
   "outputs": [
    {
     "name": "stdout",
     "output_type": "stream",
     "text": [
      "秀島 瑞紀\n",
      "バックエンドエンジニア。\n",
      "主に使用する言語はPythonとJava。\n",
      "主にテック系の記事を取り上げ、呟きます。\n",
      "Kaggleも挑戦中\n",
      "海外ではノーマスク\n",
      "日本ではマスク着用\n",
      "\n",
      "どっちが正解がわからないけど\n",
      "多少感染者がでても、それを受け入れてノーマスクでいたい派\n",
      "\n",
      "日本でも、多分これが多数派なんだけど感染者0を謳う人たちに合わせちゃうよね\n"
     ]
    }
   ],
   "source": [
    "timeline = timelines[0]\n",
    "print(timeline['user']['name'])\n",
    "print(timeline['user']['description'])\n",
    "print(timeline['text'])"
   ]
  },
  {
   "cell_type": "code",
   "execution_count": 54,
   "metadata": {},
   "outputs": [
    {
     "data": {
      "text/plain": [
       "<Response [200]>"
      ]
     },
     "execution_count": 54,
     "metadata": {},
     "output_type": "execute_result"
    }
   ],
   "source": [
    "# 投稿してみる\n",
    "twitter = OAuth1Session(CONSUMER_KEY, CUNSUMER_SECRET, ACCESS_TOKEN, ACCESS_TOKEN_SECRET)\n",
    "tweet_url = 'https://api.twitter.com/1.1/statuses/update.json'\n",
    "params = {'status':'pythonからTwitterAPIを利用してツイートしてみた'}\n",
    "twitter.post(tweet_url, params=params)"
   ]
  },
  {
   "cell_type": "code",
   "execution_count": null,
   "metadata": {},
   "outputs": [],
   "source": []
  }
 ],
 "metadata": {
  "interpreter": {
   "hash": "b0fa6594d8f4cbf19f97940f81e996739fb7646882a419484c72d19e05852a7e"
  },
  "kernelspec": {
   "display_name": "Python 3.9.12 64-bit",
   "language": "python",
   "name": "python3"
  },
  "language_info": {
   "codemirror_mode": {
    "name": "ipython",
    "version": 3
   },
   "file_extension": ".py",
   "mimetype": "text/x-python",
   "name": "python",
   "nbconvert_exporter": "python",
   "pygments_lexer": "ipython3",
   "version": "3.9.12"
  },
  "orig_nbformat": 4
 },
 "nbformat": 4,
 "nbformat_minor": 2
}
