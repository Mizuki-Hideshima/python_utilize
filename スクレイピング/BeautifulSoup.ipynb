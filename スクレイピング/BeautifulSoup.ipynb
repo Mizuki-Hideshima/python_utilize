{
 "cells": [
  {
   "cell_type": "code",
   "execution_count": 174,
   "metadata": {},
   "outputs": [],
   "source": [
    "from bs4 import BeautifulSoup\n",
    "import requests\n",
    "import pandas as pd"
   ]
  },
  {
   "cell_type": "code",
   "execution_count": 133,
   "metadata": {},
   "outputs": [],
   "source": [
    "# HTMLを取得\n",
    "res = requests.get('https://www.orangepage.net/recipes/search/6')\n",
    "soup = BeautifulSoup(res.text, 'html.parser')"
   ]
  },
  {
   "cell_type": "code",
   "execution_count": 134,
   "metadata": {},
   "outputs": [
    {
     "name": "stdout",
     "output_type": "stream",
     "text": [
      "['食材から探す', 'にんじん', 'じゃがいもとにんじんのきんぴら', 'にんじんの炊き込みご飯', 'にんじんのグラッセ', 'さばのカレームニエル', '手羽元のタンドリーチキン', '大根とにんじんのみそ汁', 'にんじんのチヂミ ', 'キャロットケーキ', 'にんじんのきんぴら', 'きゅうりとにんじんのサラダ', 'のっぺい汁', 'にんじんとしめじのさっぱり炒め', 'じゃがいもとにんじんのきんぴら', 'にんじんの炊き込みご飯', 'にんじんのグラッセ', 'さばのカレームニエル', '手羽元のタンドリーチキン', '大根とにんじんのみそ汁', 'にんじんのチヂミ ', 'キャロットケーキ', 'にんじんのきんぴら', 'きゅうりとにんじんのサラダ', 'のっぺい汁', 'にんじんとしめじのさっぱり炒め', None, None, None, None, 'SPECIAL TOPICS', None, None, None, None]\n"
     ]
    }
   ],
   "source": [
    "# h2タグを取得\n",
    "h2_tags = soup.find_all('h2')\n",
    "h2_strings = [x.string for x in h2_tags]\n",
    "print(h2_strings)"
   ]
  },
  {
   "cell_type": "code",
   "execution_count": 135,
   "metadata": {},
   "outputs": [
    {
     "name": "stdout",
     "output_type": "stream",
     "text": [
      "['人気レシピランキング']\n"
     ]
    }
   ],
   "source": [
    "# 子要素のテキストを抽出\n",
    "print([x for x in h2_tags[28].stripped_strings])"
   ]
  },
  {
   "cell_type": "code",
   "execution_count": 136,
   "metadata": {},
   "outputs": [
    {
     "data": {
      "text/plain": [
       "<h2 class=\"recipesSliderTit\"><img alt=\"\" src=\"/assets/crown-ed7dc1eb496fd39a1c20784e5ba984da4f7e1a6ee2c2d1ffb0b591051a4a6a6d.png\"/>人気レシピランキング</h2>"
      ]
     },
     "execution_count": 136,
     "metadata": {},
     "output_type": "execute_result"
    }
   ],
   "source": [
    "h2_tags[28]"
   ]
  },
  {
   "cell_type": "code",
   "execution_count": 137,
   "metadata": {},
   "outputs": [
    {
     "name": "stdout",
     "output_type": "stream",
     "text": [
      "['じゃがいもとにんじんのきんぴら', 'にんじんの炊き込みご飯', 'にんじんのグラッセ', 'さばのカレームニエル', '手羽元のタンドリーチキン', '大根とにんじんのみそ汁', 'にんじんのチヂミ ', 'キャロットケーキ', 'にんじんのきんぴら', 'きゅうりとにんじんのサラダ', 'のっぺい汁', 'にんじんとしめじのさっぱり炒め']\n"
     ]
    }
   ],
   "source": [
    "#idとclassで取得\n",
    "recipes = soup.find('div', id = 'recipe_list', class_='recipesList recipesList--list active')\n",
    "p_tit_tags = recipes.find_all('h2', class_='tit')\n",
    "print([x.string for x in p_tit_tags])"
   ]
  },
  {
   "cell_type": "code",
   "execution_count": 138,
   "metadata": {},
   "outputs": [
    {
     "name": "stdout",
     "output_type": "stream",
     "text": [
      "['/recipes/detail_115163', '/recipes/detail_114623', '/recipes/detail_120796', '/recipes/detail_300223', '/recipes/detail_302923', '/recipes/detail_114049', '/recipes/detail_127478', '/recipes/detail_302374', '/recipes/detail_300550', '/recipes/detail_139554', '/recipes/detail_113985', '/recipes/detail_301256']\n"
     ]
    }
   ],
   "source": [
    "# 属性で取得（リンク先のURLを取得する際によく使用される）\n",
    "a_tag = recipes.find_all('a')\n",
    "print([x['href'] for x in a_tag])"
   ]
  },
  {
   "cell_type": "code",
   "execution_count": 139,
   "metadata": {},
   "outputs": [],
   "source": [
    "url = 'https://scraping-for-beginner.herokuapp.com/udemy'\n",
    "res = requests.get(url)"
   ]
  },
  {
   "cell_type": "code",
   "execution_count": 140,
   "metadata": {},
   "outputs": [],
   "source": [
    "soup = BeautifulSoup(res.text, 'html.parser')"
   ]
  },
  {
   "cell_type": "code",
   "execution_count": 141,
   "metadata": {},
   "outputs": [
    {
     "data": {
      "text/plain": [
       "[<p>\n",
       "       こちらのページは、<b>PythonによるWebスクレイピング〜Webアプリケーション編〜</b>で使用します。\n",
       "       </p>,\n",
       " <p><b><p class=\"position\">いまにゅのプログラミング塾｜code4biz 代表</p></b><br/>\n",
       " \n",
       "             『プログラミング×〇〇』でビジネス戦闘力を向上させる｜東京理科大出身｜元東北大学 非常勤講師｜東進デジタルユニバーシティ最年少講師｜AI教育系ベンチャー（キカガク）取締役 → 今｜Udemy受講生3.3万人｜YouTubeチャンネル登録者10.5万人｜プログラミング初学者に欠かせない学習法等を発信<br/>\n",
       " </p>,\n",
       " <p class=\"position\">いまにゅのプログラミング塾｜code4biz 代表</p>,\n",
       " <p class=\"subscribers\">受講生の数：16201</p>,\n",
       " <p class=\"reviews\">レビューの数：2789</p>]"
      ]
     },
     "execution_count": 141,
     "metadata": {},
     "output_type": "execute_result"
    }
   ],
   "source": [
    "soup.find_all('p')"
   ]
  },
  {
   "cell_type": "code",
   "execution_count": 142,
   "metadata": {},
   "outputs": [],
   "source": [
    "# pタグの中でもclassがsubscribersのものを抽出\n",
    "subscribers = soup.find_all('p', attrs={'class': 'subscribers'})"
   ]
  },
  {
   "cell_type": "code",
   "execution_count": 143,
   "metadata": {},
   "outputs": [
    {
     "data": {
      "text/plain": [
       "16201"
      ]
     },
     "execution_count": 143,
     "metadata": {},
     "output_type": "execute_result"
    }
   ],
   "source": [
    "n_subscribers = int(subscribers[0].text.split('：')[1])\n",
    "n_subscribers"
   ]
  },
  {
   "cell_type": "code",
   "execution_count": 144,
   "metadata": {},
   "outputs": [
    {
     "data": {
      "text/plain": [
       "[<p class=\"subscribers\">受講生の数：16201</p>]"
      ]
     },
     "execution_count": 144,
     "metadata": {},
     "output_type": "execute_result"
    }
   ],
   "source": [
    "# CSSセレクタで抽出\n",
    "soup.select('.subscribers')"
   ]
  },
  {
   "cell_type": "code",
   "execution_count": 145,
   "metadata": {},
   "outputs": [],
   "source": [
    "url = 'https://scraping-for-beginner.herokuapp.com/ranking/'\n",
    "res = requests.get(url)"
   ]
  },
  {
   "cell_type": "code",
   "execution_count": 146,
   "metadata": {},
   "outputs": [
    {
     "data": {
      "text/plain": [
       "<!DOCTYPE html>\n",
       "\n",
       "<html dir=\"ltr\" lang=\"en\">\n",
       "<head>\n",
       "<meta charset=\"utf-8\"/>\n",
       "<title>Webスクレイピング入門者のためのサイト</title>\n",
       "<!-- Compiled and minified CSS -->\n",
       "<link href=\"https://cdnjs.cloudflare.com/ajax/libs/materialize/1.0.0-rc.2/css/materialize.min.css\" rel=\"stylesheet\"/>\n",
       "<link href=\"https://fonts.googleapis.com/icon?family=Material+Icons\" rel=\"stylesheet\"/> \b\n",
       "\n",
       "  <!-- <link rel=\"stylesheet\" href=\"static/assets/css/style.css\">\n",
       "  <link rel=\"stylesheet\" href=\"static/assets/css/image.css\">\n",
       "  <link rel=\"stylesheet\" href=\"static/assets/css/ranking.css\"> -->\n",
       "<link href=\"/static/assets/css/style.css\" rel=\"stylesheet\"/>\n",
       "<link href=\"/static/assets/css/image.css\" rel=\"stylesheet\"/>\n",
       "<link href=\"/static/assets/css/ranking.css\" rel=\"stylesheet\"/>\n",
       "</head>\n",
       "<body>\n",
       "<!-- Navbar -->\n",
       "<div class=\"navbar-fixed\">\n",
       "<!-- Dropdown Structure -->\n",
       "<nav class=\"\">\n",
       "<div class=\"nav-wrapper row\">\n",
       "<div class=\"col s5 l4 offset-s1 offset-l1\">\n",
       "<a class=\"brand-logo\" href=\"\b/\">Webスクレイピング入門</a>\n",
       "</div>\n",
       "<div class=\"col s5 l6\">\n",
       "<ul class=\"right hide-on-med-and-down\" id=\"nav-mobile\">\n",
       "<li><a class=\"\" href=\"\b/login_page\">ログイン</a></li>\n",
       "<li><a class=\"\" href=\"/ranking/\">ランキング</a></li>\n",
       "<li><a class=\"\" href=\"/image\">画像</a></li>\n",
       "<li><a class=\"\" href=\"/udemy\">Udemy</a></li>\n",
       "<li><a class=\"\" href=\"https://scraping-for-beginner.readthedocs.io/\" target=\"”_blank”\">サンプルコード</a></li>\n",
       "</ul>\n",
       "</div>\n",
       "</div>\n",
       "</nav>\n",
       "</div>\n",
       "<div class=\"row\">\n",
       "<div class=\"col s6 offset-s3\">\n",
       "<div class=\"overview\">\n",
       "<p>\n",
       "      このサイトはランキング形式のデモサイトになります。 私自身が適当にランク付けしたものであるため、評価等は気にしないで下さい。 スクレイピングをするためだけに用意したサイトであるため、各項目などにも特に意味はございません。\n",
       "      </p>\n",
       "</div>\n",
       "<div>\n",
       "<h3>おすすめ観光地</h3>\n",
       "</div>\n",
       "<div class=\"u_areaListRankingBox row\">\n",
       "<div class=\"u_title col s12\">\n",
       "<p><h2><span class=\"badge\">1</span>観光地 1</h2></p>\n",
       "</div>\n",
       "<!-- 観光地イメージ -->\n",
       "<div class=\"place_img col s12\">\n",
       "<img alt=\"\" src=\"/static/assets/img/img1.JPG\"/>\n",
       "</div>\n",
       "<!-- 総合評価 -->\n",
       "<div class=\"u_rankBox col s12\">\n",
       "<span style=\"--rate: 94.0%;\"></span><span class=\"evaluateNumber\">4.7</span><br/>\n",
       "</div>\n",
       "<!-- 各カテゴリ評価 -->\n",
       "<div class=\"u_categoryTipsItem col s12\">\n",
       "<dl>\n",
       "<dt>楽しさ</dt>\n",
       "<dd class=\"is_rank\"><span class=\"evaluateNumber\">4.6</span></dd>\n",
       "<dd class=\"comment\">とてもエンジョイした</dd>\n",
       "</dl>\n",
       "<dl>\n",
       "<dt>人混みの多さ</dt>\n",
       "<dd class=\"is_rank\"><span class=\"evaluateNumber\">4.5</span></dd>\n",
       "<dd class=\"comment\">空いていた</dd>\n",
       "</dl>\n",
       "<dl>\n",
       "<dt>景色</dt>\n",
       "<dd class=\"is_rank\"><span class=\"evaluateNumber\">4.9</span></dd>\n",
       "<dd class=\"comment\">景色に魅了された</dd>\n",
       "</dl>\n",
       "<dl>\n",
       "<dt>アクセス</dt>\n",
       "<dd class=\"is_rank\"><span class=\"evaluateNumber\">4.2</span></dd>\n",
       "<dd class=\"comment\">飛行機で1時間ほどで着きました</dd>\n",
       "</dl>\n",
       "</div>\n",
       "<div class=\"divider\">\n",
       "</div>\n",
       "</div>\n",
       "<div class=\"u_areaListRankingBox row\">\n",
       "<div class=\"u_title col s12\">\n",
       "<p><h2><span class=\"badge\">2</span>観光地 2</h2></p>\n",
       "</div>\n",
       "<!-- 観光地イメージ -->\n",
       "<div class=\"place_img col s12\">\n",
       "<img alt=\"\" src=\"/static/assets/img/img2.JPG\"/>\n",
       "</div>\n",
       "<!-- 総合評価 -->\n",
       "<div class=\"u_rankBox col s12\">\n",
       "<span style=\"--rate: 94.0%;\"></span><span class=\"evaluateNumber\">4.7</span><br/>\n",
       "</div>\n",
       "<!-- 各カテゴリ評価 -->\n",
       "<div class=\"u_categoryTipsItem col s12\">\n",
       "<dl>\n",
       "<dt>楽しさ</dt>\n",
       "<dd class=\"is_rank\"><span class=\"evaluateNumber\">4.6</span></dd>\n",
       "<dd class=\"comment\">また行きたいと思える場所でした！！</dd>\n",
       "</dl>\n",
       "<dl>\n",
       "<dt>人混みの多さ</dt>\n",
       "<dd class=\"is_rank\"><span class=\"evaluateNumber\">4.5</span></dd>\n",
       "<dd class=\"comment\">非常に混んでいた</dd>\n",
       "</dl>\n",
       "<dl>\n",
       "<dt>景色</dt>\n",
       "<dd class=\"is_rank\"><span class=\"evaluateNumber\">4.9</span></dd>\n",
       "<dd class=\"comment\">目を疑う超絶景であった</dd>\n",
       "</dl>\n",
       "<dl>\n",
       "<dt>アクセス</dt>\n",
       "<dd class=\"is_rank\"><span class=\"evaluateNumber\">4.2</span></dd>\n",
       "<dd class=\"comment\">市内から車で2時間ほどであった</dd>\n",
       "</dl>\n",
       "</div>\n",
       "<div class=\"divider\">\n",
       "</div>\n",
       "</div>\n",
       "<div class=\"u_areaListRankingBox row\">\n",
       "<div class=\"u_title col s12\">\n",
       "<p><h2><span class=\"badge\">3</span>観光地 3</h2></p>\n",
       "</div>\n",
       "<!-- 観光地イメージ -->\n",
       "<div class=\"place_img col s12\">\n",
       "<img alt=\"\" src=\"/static/assets/img/img3.JPG\"/>\n",
       "</div>\n",
       "<!-- 総合評価 -->\n",
       "<div class=\"u_rankBox col s12\">\n",
       "<span style=\"--rate: 91.99999999999999%;\"></span><span class=\"evaluateNumber\">4.6</span><br/>\n",
       "</div>\n",
       "<!-- 各カテゴリ評価 -->\n",
       "<div class=\"u_categoryTipsItem col s12\">\n",
       "<dl>\n",
       "<dt>楽しさ</dt>\n",
       "<dd class=\"is_rank\"><span class=\"evaluateNumber\">4.5</span></dd>\n",
       "<dd class=\"comment\">楽しくて帰りたくなかった</dd>\n",
       "</dl>\n",
       "<dl>\n",
       "<dt>人混みの多さ</dt>\n",
       "<dd class=\"is_rank\"><span class=\"evaluateNumber\">4.4</span></dd>\n",
       "<dd class=\"comment\">非常に空いていた</dd>\n",
       "</dl>\n",
       "<dl>\n",
       "<dt>景色</dt>\n",
       "<dd class=\"is_rank\"><span class=\"evaluateNumber\">4.8</span></dd>\n",
       "<dd class=\"comment\">自然の素晴らしさを味わった</dd>\n",
       "</dl>\n",
       "<dl>\n",
       "<dt>アクセス</dt>\n",
       "<dd class=\"is_rank\"><span class=\"evaluateNumber\">4.1</span></dd>\n",
       "<dd class=\"comment\">船で1時間ほどであった</dd>\n",
       "</dl>\n",
       "</div>\n",
       "<div class=\"divider\">\n",
       "</div>\n",
       "</div>\n",
       "<div class=\"u_areaListRankingBox row\">\n",
       "<div class=\"u_title col s12\">\n",
       "<p><h2><span class=\"badge\">4</span>観光地 4</h2></p>\n",
       "</div>\n",
       "<!-- 観光地イメージ -->\n",
       "<div class=\"place_img col s12\">\n",
       "<img alt=\"\" src=\"/static/assets/img/img4.JPG\"/>\n",
       "</div>\n",
       "<!-- 総合評価 -->\n",
       "<div class=\"u_rankBox col s12\">\n",
       "<span style=\"--rate: 90.0%;\"></span><span class=\"evaluateNumber\">4.5</span><br/>\n",
       "</div>\n",
       "<!-- 各カテゴリ評価 -->\n",
       "<div class=\"u_categoryTipsItem col s12\">\n",
       "<dl>\n",
       "<dt>楽しさ</dt>\n",
       "<dd class=\"is_rank\"><span class=\"evaluateNumber\">4.4</span></dd>\n",
       "<dd class=\"comment\">楽しくて帰りたくなかった</dd>\n",
       "</dl>\n",
       "<dl>\n",
       "<dt>人混みの多さ</dt>\n",
       "<dd class=\"is_rank\"><span class=\"evaluateNumber\">4.4</span></dd>\n",
       "<dd class=\"comment\">まぁまぁ混んでいた</dd>\n",
       "</dl>\n",
       "<dl>\n",
       "<dt>景色</dt>\n",
       "<dd class=\"is_rank\"><span class=\"evaluateNumber\">4.8</span></dd>\n",
       "<dd class=\"comment\">目を疑う超絶景であった</dd>\n",
       "</dl>\n",
       "<dl>\n",
       "<dt>アクセス</dt>\n",
       "<dd class=\"is_rank\"><span class=\"evaluateNumber\">4.0</span></dd>\n",
       "<dd class=\"comment\">市内から車で2時間ほどであった</dd>\n",
       "</dl>\n",
       "</div>\n",
       "<div class=\"divider\">\n",
       "</div>\n",
       "</div>\n",
       "<div class=\"u_areaListRankingBox row\">\n",
       "<div class=\"u_title col s12\">\n",
       "<p><h2><span class=\"badge\">5</span>観光地 5</h2></p>\n",
       "</div>\n",
       "<!-- 観光地イメージ -->\n",
       "<div class=\"place_img col s12\">\n",
       "<img alt=\"\" src=\"/static/assets/img/img5.JPG\"/>\n",
       "</div>\n",
       "<!-- 総合評価 -->\n",
       "<div class=\"u_rankBox col s12\">\n",
       "<span style=\"--rate: 90.0%;\"></span><span class=\"evaluateNumber\">4.5</span><br/>\n",
       "</div>\n",
       "<!-- 各カテゴリ評価 -->\n",
       "<div class=\"u_categoryTipsItem col s12\">\n",
       "<dl>\n",
       "<dt>楽しさ</dt>\n",
       "<dd class=\"is_rank\"><span class=\"evaluateNumber\">4.4</span></dd>\n",
       "<dd class=\"comment\">非常に楽しい場所であった</dd>\n",
       "</dl>\n",
       "<dl>\n",
       "<dt>人混みの多さ</dt>\n",
       "<dd class=\"is_rank\"><span class=\"evaluateNumber\">4.3</span></dd>\n",
       "<dd class=\"comment\">非常に混んでいた</dd>\n",
       "</dl>\n",
       "<dl>\n",
       "<dt>景色</dt>\n",
       "<dd class=\"is_rank\"><span class=\"evaluateNumber\">4.7</span></dd>\n",
       "<dd class=\"comment\">景色に魅了された</dd>\n",
       "</dl>\n",
       "<dl>\n",
       "<dt>アクセス</dt>\n",
       "<dd class=\"is_rank\"><span class=\"evaluateNumber\">4.0</span></dd>\n",
       "<dd class=\"comment\">交通の便が悪かった</dd>\n",
       "</dl>\n",
       "</div>\n",
       "<div class=\"divider\">\n",
       "</div>\n",
       "</div>\n",
       "<div class=\"u_areaListRankingBox row\">\n",
       "<div class=\"u_title col s12\">\n",
       "<p><h2><span class=\"badge\">6</span>観光地 6</h2></p>\n",
       "</div>\n",
       "<!-- 観光地イメージ -->\n",
       "<div class=\"place_img col s12\">\n",
       "<img alt=\"\" src=\"/static/assets/img/img6.JPG\"/>\n",
       "</div>\n",
       "<!-- 総合評価 -->\n",
       "<div class=\"u_rankBox col s12\">\n",
       "<span style=\"--rate: 88.00000000000001%;\"></span><span class=\"evaluateNumber\">4.4</span><br/>\n",
       "</div>\n",
       "<!-- 各カテゴリ評価 -->\n",
       "<div class=\"u_categoryTipsItem col s12\">\n",
       "<dl>\n",
       "<dt>楽しさ</dt>\n",
       "<dd class=\"is_rank\"><span class=\"evaluateNumber\">4.3</span></dd>\n",
       "<dd class=\"comment\">一人旅には最適でした</dd>\n",
       "</dl>\n",
       "<dl>\n",
       "<dt>人混みの多さ</dt>\n",
       "<dd class=\"is_rank\"><span class=\"evaluateNumber\">4.3</span></dd>\n",
       "<dd class=\"comment\">お昼の時間はかなり混んでいた</dd>\n",
       "</dl>\n",
       "<dl>\n",
       "<dt>景色</dt>\n",
       "<dd class=\"is_rank\"><span class=\"evaluateNumber\">4.7</span></dd>\n",
       "<dd class=\"comment\">山頂からの景色は絶景であった</dd>\n",
       "</dl>\n",
       "<dl>\n",
       "<dt>アクセス</dt>\n",
       "<dd class=\"is_rank\"><span class=\"evaluateNumber\">3.9</span></dd>\n",
       "<dd class=\"comment\">アクセスはあまり良くなかった</dd>\n",
       "</dl>\n",
       "</div>\n",
       "<div class=\"divider\">\n",
       "</div>\n",
       "</div>\n",
       "<div class=\"u_areaListRankingBox row\">\n",
       "<div class=\"u_title col s12\">\n",
       "<p><h2><span class=\"badge\">7</span>観光地 7</h2></p>\n",
       "</div>\n",
       "<!-- 観光地イメージ -->\n",
       "<div class=\"place_img col s12\">\n",
       "<img alt=\"\" src=\"/static/assets/img/img7.JPG\"/>\n",
       "</div>\n",
       "<!-- 総合評価 -->\n",
       "<div class=\"u_rankBox col s12\">\n",
       "<span style=\"--rate: 86.0%;\"></span><span class=\"evaluateNumber\">4.3</span><br/>\n",
       "</div>\n",
       "<!-- 各カテゴリ評価 -->\n",
       "<div class=\"u_categoryTipsItem col s12\">\n",
       "<dl>\n",
       "<dt>楽しさ</dt>\n",
       "<dd class=\"is_rank\"><span class=\"evaluateNumber\">4.2</span></dd>\n",
       "<dd class=\"comment\">THE非日常</dd>\n",
       "</dl>\n",
       "<dl>\n",
       "<dt>人混みの多さ</dt>\n",
       "<dd class=\"is_rank\"><span class=\"evaluateNumber\">4.2</span></dd>\n",
       "<dd class=\"comment\">時間帯によって混雑具合は違った</dd>\n",
       "</dl>\n",
       "<dl>\n",
       "<dt>景色</dt>\n",
       "<dd class=\"is_rank\"><span class=\"evaluateNumber\">4.6</span></dd>\n",
       "<dd class=\"comment\">時を忘れるような壮大さであった</dd>\n",
       "</dl>\n",
       "<dl>\n",
       "<dt>アクセス</dt>\n",
       "<dd class=\"is_rank\"><span class=\"evaluateNumber\">3.8</span></dd>\n",
       "<dd class=\"comment\">飛行機で1時間ほどで着きました</dd>\n",
       "</dl>\n",
       "</div>\n",
       "<div class=\"divider\">\n",
       "</div>\n",
       "</div>\n",
       "<div class=\"u_areaListRankingBox row\">\n",
       "<div class=\"u_title col s12\">\n",
       "<p><h2><span class=\"badge\">8</span>観光地 8</h2></p>\n",
       "</div>\n",
       "<!-- 観光地イメージ -->\n",
       "<div class=\"place_img col s12\">\n",
       "<img alt=\"\" src=\"/static/assets/img/img8.JPG\"/>\n",
       "</div>\n",
       "<!-- 総合評価 -->\n",
       "<div class=\"u_rankBox col s12\">\n",
       "<span style=\"--rate: 86.0%;\"></span><span class=\"evaluateNumber\">4.3</span><br/>\n",
       "</div>\n",
       "<!-- 各カテゴリ評価 -->\n",
       "<div class=\"u_categoryTipsItem col s12\">\n",
       "<dl>\n",
       "<dt>楽しさ</dt>\n",
       "<dd class=\"is_rank\"><span class=\"evaluateNumber\">4.2</span></dd>\n",
       "<dd class=\"comment\">とてもエンジョイした</dd>\n",
       "</dl>\n",
       "<dl>\n",
       "<dt>人混みの多さ</dt>\n",
       "<dd class=\"is_rank\"><span class=\"evaluateNumber\">4.2</span></dd>\n",
       "<dd class=\"comment\">時間帯によって混雑具合は違った</dd>\n",
       "</dl>\n",
       "<dl>\n",
       "<dt>景色</dt>\n",
       "<dd class=\"is_rank\"><span class=\"evaluateNumber\">4.6</span></dd>\n",
       "<dd class=\"comment\">信じられないような絶景であった</dd>\n",
       "</dl>\n",
       "<dl>\n",
       "<dt>アクセス</dt>\n",
       "<dd class=\"is_rank\"><span class=\"evaluateNumber\">3.8</span></dd>\n",
       "<dd class=\"comment\">船で1時間ほどであった</dd>\n",
       "</dl>\n",
       "</div>\n",
       "<div class=\"divider\">\n",
       "</div>\n",
       "</div>\n",
       "<div class=\"u_areaListRankingBox row\">\n",
       "<div class=\"u_title col s12\">\n",
       "<p><h2><span class=\"badge\">9</span>観光地 9</h2></p>\n",
       "</div>\n",
       "<!-- 観光地イメージ -->\n",
       "<div class=\"place_img col s12\">\n",
       "<img alt=\"\" src=\"/static/assets/img/img9.JPG\"/>\n",
       "</div>\n",
       "<!-- 総合評価 -->\n",
       "<div class=\"u_rankBox col s12\">\n",
       "<span style=\"--rate: 84.0%;\"></span><span class=\"evaluateNumber\">4.2</span><br/>\n",
       "</div>\n",
       "<!-- 各カテゴリ評価 -->\n",
       "<div class=\"u_categoryTipsItem col s12\">\n",
       "<dl>\n",
       "<dt>楽しさ</dt>\n",
       "<dd class=\"is_rank\"><span class=\"evaluateNumber\">4.1</span></dd>\n",
       "<dd class=\"comment\">非常に楽しい場所であった</dd>\n",
       "</dl>\n",
       "<dl>\n",
       "<dt>人混みの多さ</dt>\n",
       "<dd class=\"is_rank\"><span class=\"evaluateNumber\">4.1</span></dd>\n",
       "<dd class=\"comment\">まぁまぁ混んでいた</dd>\n",
       "</dl>\n",
       "<dl>\n",
       "<dt>景色</dt>\n",
       "<dd class=\"is_rank\"><span class=\"evaluateNumber\">4.5</span></dd>\n",
       "<dd class=\"comment\">山頂からの景色は絶景であった</dd>\n",
       "</dl>\n",
       "<dl>\n",
       "<dt>アクセス</dt>\n",
       "<dd class=\"is_rank\"><span class=\"evaluateNumber\">3.7</span></dd>\n",
       "<dd class=\"comment\">船で2時間ほどであった</dd>\n",
       "</dl>\n",
       "</div>\n",
       "<div class=\"divider\">\n",
       "</div>\n",
       "</div>\n",
       "<div class=\"u_areaListRankingBox row\">\n",
       "<div class=\"u_title col s12\">\n",
       "<p><h2><span class=\"badge\">10</span>観光地 10</h2></p>\n",
       "</div>\n",
       "<!-- 観光地イメージ -->\n",
       "<div class=\"place_img col s12\">\n",
       "<img alt=\"\" src=\"/static/assets/img/img10.JPG\"/>\n",
       "</div>\n",
       "<!-- 総合評価 -->\n",
       "<div class=\"u_rankBox col s12\">\n",
       "<span style=\"--rate: 81.99999999999999%;\"></span><span class=\"evaluateNumber\">4.1</span><br/>\n",
       "</div>\n",
       "<!-- 各カテゴリ評価 -->\n",
       "<div class=\"u_categoryTipsItem col s12\">\n",
       "<dl>\n",
       "<dt>楽しさ</dt>\n",
       "<dd class=\"is_rank\"><span class=\"evaluateNumber\">4.0</span></dd>\n",
       "<dd class=\"comment\">１日中飽きることなく遊び続けられた</dd>\n",
       "</dl>\n",
       "<dl>\n",
       "<dt>人混みの多さ</dt>\n",
       "<dd class=\"is_rank\"><span class=\"evaluateNumber\">4.1</span></dd>\n",
       "<dd class=\"comment\">空いていた</dd>\n",
       "</dl>\n",
       "<dl>\n",
       "<dt>景色</dt>\n",
       "<dd class=\"is_rank\"><span class=\"evaluateNumber\">4.4</span></dd>\n",
       "<dd class=\"comment\">海が非常に綺麗であった</dd>\n",
       "</dl>\n",
       "<dl>\n",
       "<dt>アクセス</dt>\n",
       "<dd class=\"is_rank\"><span class=\"evaluateNumber\">3.6</span></dd>\n",
       "<dd class=\"comment\">アクセスはあまり良くなかった</dd>\n",
       "</dl>\n",
       "</div>\n",
       "<div class=\"divider\">\n",
       "</div>\n",
       "</div>\n",
       "<div class=\"divider white\">\n",
       "</div>\n",
       "<div class=\"center-align\" id=\"pagination\">\n",
       "<ul class=\"pagination\">\n",
       "<li class=\"disabled\"><a href=\"/ranking/?page=prev\"><i class=\"material-icons\">chevron_left</i></a></li>\n",
       "<li class=\"active\"><a href=\"/ranking/?page=1\">1</a></li>\n",
       "<li class=\"waves-effect\"><a href=\"/ranking/?page=2\">2</a></li>\n",
       "<li class=\"waves-effect\"><a href=\"/ranking/?page=3\">3</a></li>\n",
       "<li class=\"waves-effect\"><a href=\"/ranking/?page=next\"><i class=\"material-icons\">chevron_right</i></a></li>\n",
       "</ul>\n",
       "</div>\n",
       "</div>\n",
       "</div>\n",
       "</body>\n",
       "</html>"
      ]
     },
     "execution_count": 146,
     "metadata": {},
     "output_type": "execute_result"
    }
   ],
   "source": [
    "soup = BeautifulSoup(res.text, 'html.parser')\n",
    "soup"
   ]
  },
  {
   "cell_type": "markdown",
   "metadata": {},
   "source": [
    "## 1つの観光地情報を取得"
   ]
  },
  {
   "cell_type": "code",
   "execution_count": 147,
   "metadata": {},
   "outputs": [
    {
     "data": {
      "text/plain": [
       "<div class=\"u_title col s12\">\n",
       "<p><h2><span class=\"badge\">1</span>観光地 1</h2></p>\n",
       "</div>"
      ]
     },
     "execution_count": 147,
     "metadata": {},
     "output_type": "execute_result"
    }
   ],
   "source": [
    "spots = soup.find_all('div', attrs={'class': 'u_areaListRankingBox'})\n",
    "spot = spots[0]\n",
    "spot_name = spot.find('div', attrs={'class': 'u_title'})\n",
    "spot_name"
   ]
  },
  {
   "cell_type": "code",
   "execution_count": 148,
   "metadata": {},
   "outputs": [
    {
     "data": {
      "text/plain": [
       "<span class=\"badge\">1</span>"
      ]
     },
     "execution_count": 148,
     "metadata": {},
     "output_type": "execute_result"
    }
   ],
   "source": [
    "# spanタグのclassがbadgeの部分を取り除く\n",
    "spot_name.find('span', attrs={'class': 'badge'}).extract()"
   ]
  },
  {
   "cell_type": "code",
   "execution_count": 149,
   "metadata": {},
   "outputs": [
    {
     "data": {
      "text/plain": [
       "'観光地 1'"
      ]
     },
     "execution_count": 149,
     "metadata": {},
     "output_type": "execute_result"
    }
   ],
   "source": [
    "spot_name = spot_name.text.replace('\\n', '')\n",
    "spot_name"
   ]
  },
  {
   "cell_type": "code",
   "execution_count": 150,
   "metadata": {},
   "outputs": [
    {
     "data": {
      "text/plain": [
       "4.7"
      ]
     },
     "execution_count": 150,
     "metadata": {},
     "output_type": "execute_result"
    }
   ],
   "source": [
    "# 評点\n",
    "eval_num = spot.find('div', attrs={'class': 'u_rankBox'}).text\n",
    "eval_num = float(eval_num.replace('\\n', ''))\n",
    "eval_num"
   ]
  },
  {
   "cell_type": "code",
   "execution_count": 151,
   "metadata": {},
   "outputs": [
    {
     "data": {
      "text/plain": [
       "<div class=\"u_categoryTipsItem col s12\">\n",
       "<dl>\n",
       "<dt>楽しさ</dt>\n",
       "<dd class=\"is_rank\"><span class=\"evaluateNumber\">4.6</span></dd>\n",
       "<dd class=\"comment\">とてもエンジョイした</dd>\n",
       "</dl>\n",
       "<dl>\n",
       "<dt>人混みの多さ</dt>\n",
       "<dd class=\"is_rank\"><span class=\"evaluateNumber\">4.5</span></dd>\n",
       "<dd class=\"comment\">空いていた</dd>\n",
       "</dl>\n",
       "<dl>\n",
       "<dt>景色</dt>\n",
       "<dd class=\"is_rank\"><span class=\"evaluateNumber\">4.9</span></dd>\n",
       "<dd class=\"comment\">景色に魅了された</dd>\n",
       "</dl>\n",
       "<dl>\n",
       "<dt>アクセス</dt>\n",
       "<dd class=\"is_rank\"><span class=\"evaluateNumber\">4.2</span></dd>\n",
       "<dd class=\"comment\">飛行機で1時間ほどで着きました</dd>\n",
       "</dl>\n",
       "</div>"
      ]
     },
     "execution_count": 151,
     "metadata": {},
     "output_type": "execute_result"
    }
   ],
   "source": [
    "category_items = spot.find('div', attrs={'class': 'u_categoryTipsItem'})\n",
    "category_items"
   ]
  },
  {
   "cell_type": "code",
   "execution_count": 152,
   "metadata": {},
   "outputs": [
    {
     "data": {
      "text/plain": [
       "[<dl>\n",
       " <dt>楽しさ</dt>\n",
       " <dd class=\"is_rank\"><span class=\"evaluateNumber\">4.6</span></dd>\n",
       " <dd class=\"comment\">とてもエンジョイした</dd>\n",
       " </dl>,\n",
       " <dl>\n",
       " <dt>人混みの多さ</dt>\n",
       " <dd class=\"is_rank\"><span class=\"evaluateNumber\">4.5</span></dd>\n",
       " <dd class=\"comment\">空いていた</dd>\n",
       " </dl>,\n",
       " <dl>\n",
       " <dt>景色</dt>\n",
       " <dd class=\"is_rank\"><span class=\"evaluateNumber\">4.9</span></dd>\n",
       " <dd class=\"comment\">景色に魅了された</dd>\n",
       " </dl>,\n",
       " <dl>\n",
       " <dt>アクセス</dt>\n",
       " <dd class=\"is_rank\"><span class=\"evaluateNumber\">4.2</span></dd>\n",
       " <dd class=\"comment\">飛行機で1時間ほどで着きました</dd>\n",
       " </dl>]"
      ]
     },
     "execution_count": 152,
     "metadata": {},
     "output_type": "execute_result"
    }
   ],
   "source": [
    "category_items = category_items.find_all('dl')\n",
    "category_items"
   ]
  },
  {
   "cell_type": "code",
   "execution_count": 153,
   "metadata": {},
   "outputs": [
    {
     "data": {
      "text/plain": [
       "<dl>\n",
       "<dt>楽しさ</dt>\n",
       "<dd class=\"is_rank\"><span class=\"evaluateNumber\">4.6</span></dd>\n",
       "<dd class=\"comment\">とてもエンジョイした</dd>\n",
       "</dl>"
      ]
     },
     "execution_count": 153,
     "metadata": {},
     "output_type": "execute_result"
    }
   ],
   "source": [
    "# 楽しさのみ取得\n",
    "category_item = category_items[0]\n",
    "category_item"
   ]
  },
  {
   "cell_type": "code",
   "execution_count": 157,
   "metadata": {},
   "outputs": [
    {
     "data": {
      "text/plain": [
       "'楽しさ'"
      ]
     },
     "execution_count": 157,
     "metadata": {},
     "output_type": "execute_result"
    }
   ],
   "source": [
    "category = category_item.find('dt').text\n",
    "category"
   ]
  },
  {
   "cell_type": "code",
   "execution_count": 161,
   "metadata": {},
   "outputs": [
    {
     "data": {
      "text/plain": [
       "4.6"
      ]
     },
     "execution_count": 161,
     "metadata": {},
     "output_type": "execute_result"
    }
   ],
   "source": [
    "rank = float(category_item.find('span').text)\n",
    "rank"
   ]
  },
  {
   "cell_type": "code",
   "execution_count": 166,
   "metadata": {},
   "outputs": [
    {
     "data": {
      "text/plain": [
       "{'楽しさ': 4.6, '人混みの多さ': 4.5, '景色': 4.9, 'アクセス': 4.2}"
      ]
     },
     "execution_count": 166,
     "metadata": {},
     "output_type": "execute_result"
    }
   ],
   "source": [
    "datum = {}\n",
    "\n",
    "for category_item in category_items:\n",
    "    category = category_item.find('dt').text\n",
    "    rank = float(category_item.find('span').text)\n",
    "\n",
    "    datum[category] = rank\n",
    "datum"
   ]
  },
  {
   "cell_type": "code",
   "execution_count": 167,
   "metadata": {},
   "outputs": [
    {
     "data": {
      "text/plain": [
       "{'楽しさ': 4.6, '人混みの多さ': 4.5, '景色': 4.9, 'アクセス': 4.2, '観光地名': '観光地 1', '評点': 4.7}"
      ]
     },
     "execution_count": 167,
     "metadata": {},
     "output_type": "execute_result"
    }
   ],
   "source": [
    "datum['観光地名'] = spot_name\n",
    "datum['評点'] = eval_num\n",
    "\n",
    "datum"
   ]
  },
  {
   "cell_type": "code",
   "execution_count": 172,
   "metadata": {},
   "outputs": [],
   "source": [
    "soup = BeautifulSoup(res.text, 'html.parser')\n",
    "\n",
    "\n",
    "data = []\n",
    "\n",
    "# 観光地名\n",
    "spots = soup.find_all('div', attrs={'class': 'u_areaListRankingBox'})\n",
    "for spot in spots:\n",
    "    spot_name = spot.find('div', attrs={'class': 'u_title'})\n",
    "    spot_name.find('span', attrs={'class': 'badge'}).extract()\n",
    "    spot_name = spot_name.text.replace('\\n', '')\n",
    "\n",
    "    # 評点\n",
    "    eval_num = spot.find('div', attrs={'class': 'u_rankBox'}).text\n",
    "    eval_num = float(eval_num.replace('\\n', ''))\n",
    "\n",
    "\n",
    "    category_items = spot.find('div', attrs={'class': 'u_categoryTipsItem'})\n",
    "    category_items = category_items.find_all('dl')\n",
    "\n",
    "    datum = {}\n",
    "\n",
    "    for category_item in category_items:\n",
    "        category = category_item.find('dt').text\n",
    "        rank = float(category_item.find('span').text)\n",
    "\n",
    "        datum[category] = rank\n",
    "\n",
    "    datum['観光地名'] = spot_name\n",
    "    datum['評点'] = eval_num\n",
    "    data.append(datum)"
   ]
  },
  {
   "cell_type": "code",
   "execution_count": 173,
   "metadata": {},
   "outputs": [
    {
     "data": {
      "text/plain": [
       "[{'楽しさ': 4.6,\n",
       "  '人混みの多さ': 4.5,\n",
       "  '景色': 4.9,\n",
       "  'アクセス': 4.2,\n",
       "  '観光地名': '観光地 1',\n",
       "  '評点': 4.7},\n",
       " {'楽しさ': 4.6,\n",
       "  '人混みの多さ': 4.5,\n",
       "  '景色': 4.9,\n",
       "  'アクセス': 4.2,\n",
       "  '観光地名': '観光地 2',\n",
       "  '評点': 4.7},\n",
       " {'楽しさ': 4.5,\n",
       "  '人混みの多さ': 4.4,\n",
       "  '景色': 4.8,\n",
       "  'アクセス': 4.1,\n",
       "  '観光地名': '観光地 3',\n",
       "  '評点': 4.6},\n",
       " {'楽しさ': 4.4,\n",
       "  '人混みの多さ': 4.4,\n",
       "  '景色': 4.8,\n",
       "  'アクセス': 4.0,\n",
       "  '観光地名': '観光地 4',\n",
       "  '評点': 4.5},\n",
       " {'楽しさ': 4.4,\n",
       "  '人混みの多さ': 4.3,\n",
       "  '景色': 4.7,\n",
       "  'アクセス': 4.0,\n",
       "  '観光地名': '観光地 5',\n",
       "  '評点': 4.5},\n",
       " {'楽しさ': 4.3,\n",
       "  '人混みの多さ': 4.3,\n",
       "  '景色': 4.7,\n",
       "  'アクセス': 3.9,\n",
       "  '観光地名': '観光地 6',\n",
       "  '評点': 4.4},\n",
       " {'楽しさ': 4.2,\n",
       "  '人混みの多さ': 4.2,\n",
       "  '景色': 4.6,\n",
       "  'アクセス': 3.8,\n",
       "  '観光地名': '観光地 7',\n",
       "  '評点': 4.3},\n",
       " {'楽しさ': 4.2,\n",
       "  '人混みの多さ': 4.2,\n",
       "  '景色': 4.6,\n",
       "  'アクセス': 3.8,\n",
       "  '観光地名': '観光地 8',\n",
       "  '評点': 4.3},\n",
       " {'楽しさ': 4.1,\n",
       "  '人混みの多さ': 4.1,\n",
       "  '景色': 4.5,\n",
       "  'アクセス': 3.7,\n",
       "  '観光地名': '観光地 9',\n",
       "  '評点': 4.2},\n",
       " {'楽しさ': 4.0,\n",
       "  '人混みの多さ': 4.1,\n",
       "  '景色': 4.4,\n",
       "  'アクセス': 3.6,\n",
       "  '観光地名': '観光地 10',\n",
       "  '評点': 4.1}]"
      ]
     },
     "execution_count": 173,
     "metadata": {},
     "output_type": "execute_result"
    }
   ],
   "source": [
    "data"
   ]
  },
  {
   "cell_type": "code",
   "execution_count": 176,
   "metadata": {},
   "outputs": [
    {
     "data": {
      "text/html": [
       "<div>\n",
       "<style scoped>\n",
       "    .dataframe tbody tr th:only-of-type {\n",
       "        vertical-align: middle;\n",
       "    }\n",
       "\n",
       "    .dataframe tbody tr th {\n",
       "        vertical-align: top;\n",
       "    }\n",
       "\n",
       "    .dataframe thead th {\n",
       "        text-align: right;\n",
       "    }\n",
       "</style>\n",
       "<table border=\"1\" class=\"dataframe\">\n",
       "  <thead>\n",
       "    <tr style=\"text-align: right;\">\n",
       "      <th></th>\n",
       "      <th>楽しさ</th>\n",
       "      <th>人混みの多さ</th>\n",
       "      <th>景色</th>\n",
       "      <th>アクセス</th>\n",
       "      <th>観光地名</th>\n",
       "      <th>評点</th>\n",
       "    </tr>\n",
       "  </thead>\n",
       "  <tbody>\n",
       "    <tr>\n",
       "      <th>0</th>\n",
       "      <td>4.6</td>\n",
       "      <td>4.5</td>\n",
       "      <td>4.9</td>\n",
       "      <td>4.2</td>\n",
       "      <td>観光地 1</td>\n",
       "      <td>4.7</td>\n",
       "    </tr>\n",
       "    <tr>\n",
       "      <th>1</th>\n",
       "      <td>4.6</td>\n",
       "      <td>4.5</td>\n",
       "      <td>4.9</td>\n",
       "      <td>4.2</td>\n",
       "      <td>観光地 2</td>\n",
       "      <td>4.7</td>\n",
       "    </tr>\n",
       "    <tr>\n",
       "      <th>2</th>\n",
       "      <td>4.5</td>\n",
       "      <td>4.4</td>\n",
       "      <td>4.8</td>\n",
       "      <td>4.1</td>\n",
       "      <td>観光地 3</td>\n",
       "      <td>4.6</td>\n",
       "    </tr>\n",
       "    <tr>\n",
       "      <th>3</th>\n",
       "      <td>4.4</td>\n",
       "      <td>4.4</td>\n",
       "      <td>4.8</td>\n",
       "      <td>4.0</td>\n",
       "      <td>観光地 4</td>\n",
       "      <td>4.5</td>\n",
       "    </tr>\n",
       "    <tr>\n",
       "      <th>4</th>\n",
       "      <td>4.4</td>\n",
       "      <td>4.3</td>\n",
       "      <td>4.7</td>\n",
       "      <td>4.0</td>\n",
       "      <td>観光地 5</td>\n",
       "      <td>4.5</td>\n",
       "    </tr>\n",
       "    <tr>\n",
       "      <th>5</th>\n",
       "      <td>4.3</td>\n",
       "      <td>4.3</td>\n",
       "      <td>4.7</td>\n",
       "      <td>3.9</td>\n",
       "      <td>観光地 6</td>\n",
       "      <td>4.4</td>\n",
       "    </tr>\n",
       "    <tr>\n",
       "      <th>6</th>\n",
       "      <td>4.2</td>\n",
       "      <td>4.2</td>\n",
       "      <td>4.6</td>\n",
       "      <td>3.8</td>\n",
       "      <td>観光地 7</td>\n",
       "      <td>4.3</td>\n",
       "    </tr>\n",
       "    <tr>\n",
       "      <th>7</th>\n",
       "      <td>4.2</td>\n",
       "      <td>4.2</td>\n",
       "      <td>4.6</td>\n",
       "      <td>3.8</td>\n",
       "      <td>観光地 8</td>\n",
       "      <td>4.3</td>\n",
       "    </tr>\n",
       "    <tr>\n",
       "      <th>8</th>\n",
       "      <td>4.1</td>\n",
       "      <td>4.1</td>\n",
       "      <td>4.5</td>\n",
       "      <td>3.7</td>\n",
       "      <td>観光地 9</td>\n",
       "      <td>4.2</td>\n",
       "    </tr>\n",
       "    <tr>\n",
       "      <th>9</th>\n",
       "      <td>4.0</td>\n",
       "      <td>4.1</td>\n",
       "      <td>4.4</td>\n",
       "      <td>3.6</td>\n",
       "      <td>観光地 10</td>\n",
       "      <td>4.1</td>\n",
       "    </tr>\n",
       "  </tbody>\n",
       "</table>\n",
       "</div>"
      ],
      "text/plain": [
       "   楽しさ  人混みの多さ   景色  アクセス    観光地名   評点\n",
       "0  4.6     4.5  4.9   4.2   観光地 1  4.7\n",
       "1  4.6     4.5  4.9   4.2   観光地 2  4.7\n",
       "2  4.5     4.4  4.8   4.1   観光地 3  4.6\n",
       "3  4.4     4.4  4.8   4.0   観光地 4  4.5\n",
       "4  4.4     4.3  4.7   4.0   観光地 5  4.5\n",
       "5  4.3     4.3  4.7   3.9   観光地 6  4.4\n",
       "6  4.2     4.2  4.6   3.8   観光地 7  4.3\n",
       "7  4.2     4.2  4.6   3.8   観光地 8  4.3\n",
       "8  4.1     4.1  4.5   3.7   観光地 9  4.2\n",
       "9  4.0     4.1  4.4   3.6  観光地 10  4.1"
      ]
     },
     "execution_count": 176,
     "metadata": {},
     "output_type": "execute_result"
    }
   ],
   "source": [
    "df = pd.DataFrame(data)\n",
    "df"
   ]
  },
  {
   "cell_type": "code",
   "execution_count": 177,
   "metadata": {},
   "outputs": [
    {
     "data": {
      "text/plain": [
       "Index(['楽しさ', '人混みの多さ', '景色', 'アクセス', '観光地名', '評点'], dtype='object')"
      ]
     },
     "execution_count": 177,
     "metadata": {},
     "output_type": "execute_result"
    }
   ],
   "source": [
    "df.columns"
   ]
  },
  {
   "cell_type": "code",
   "execution_count": 181,
   "metadata": {},
   "outputs": [
    {
     "data": {
      "text/html": [
       "<div>\n",
       "<style scoped>\n",
       "    .dataframe tbody tr th:only-of-type {\n",
       "        vertical-align: middle;\n",
       "    }\n",
       "\n",
       "    .dataframe tbody tr th {\n",
       "        vertical-align: top;\n",
       "    }\n",
       "\n",
       "    .dataframe thead th {\n",
       "        text-align: right;\n",
       "    }\n",
       "</style>\n",
       "<table border=\"1\" class=\"dataframe\">\n",
       "  <thead>\n",
       "    <tr style=\"text-align: right;\">\n",
       "      <th></th>\n",
       "      <th>観光地名</th>\n",
       "      <th>評点</th>\n",
       "      <th>楽しさ</th>\n",
       "      <th>人混みの多さ</th>\n",
       "      <th>景色</th>\n",
       "      <th>アクセス</th>\n",
       "    </tr>\n",
       "  </thead>\n",
       "  <tbody>\n",
       "    <tr>\n",
       "      <th>0</th>\n",
       "      <td>観光地 1</td>\n",
       "      <td>4.7</td>\n",
       "      <td>4.6</td>\n",
       "      <td>4.5</td>\n",
       "      <td>4.9</td>\n",
       "      <td>4.2</td>\n",
       "    </tr>\n",
       "    <tr>\n",
       "      <th>1</th>\n",
       "      <td>観光地 2</td>\n",
       "      <td>4.7</td>\n",
       "      <td>4.6</td>\n",
       "      <td>4.5</td>\n",
       "      <td>4.9</td>\n",
       "      <td>4.2</td>\n",
       "    </tr>\n",
       "    <tr>\n",
       "      <th>2</th>\n",
       "      <td>観光地 3</td>\n",
       "      <td>4.6</td>\n",
       "      <td>4.5</td>\n",
       "      <td>4.4</td>\n",
       "      <td>4.8</td>\n",
       "      <td>4.1</td>\n",
       "    </tr>\n",
       "    <tr>\n",
       "      <th>3</th>\n",
       "      <td>観光地 4</td>\n",
       "      <td>4.5</td>\n",
       "      <td>4.4</td>\n",
       "      <td>4.4</td>\n",
       "      <td>4.8</td>\n",
       "      <td>4.0</td>\n",
       "    </tr>\n",
       "    <tr>\n",
       "      <th>4</th>\n",
       "      <td>観光地 5</td>\n",
       "      <td>4.5</td>\n",
       "      <td>4.4</td>\n",
       "      <td>4.3</td>\n",
       "      <td>4.7</td>\n",
       "      <td>4.0</td>\n",
       "    </tr>\n",
       "    <tr>\n",
       "      <th>5</th>\n",
       "      <td>観光地 6</td>\n",
       "      <td>4.4</td>\n",
       "      <td>4.3</td>\n",
       "      <td>4.3</td>\n",
       "      <td>4.7</td>\n",
       "      <td>3.9</td>\n",
       "    </tr>\n",
       "    <tr>\n",
       "      <th>6</th>\n",
       "      <td>観光地 7</td>\n",
       "      <td>4.3</td>\n",
       "      <td>4.2</td>\n",
       "      <td>4.2</td>\n",
       "      <td>4.6</td>\n",
       "      <td>3.8</td>\n",
       "    </tr>\n",
       "    <tr>\n",
       "      <th>7</th>\n",
       "      <td>観光地 8</td>\n",
       "      <td>4.3</td>\n",
       "      <td>4.2</td>\n",
       "      <td>4.2</td>\n",
       "      <td>4.6</td>\n",
       "      <td>3.8</td>\n",
       "    </tr>\n",
       "    <tr>\n",
       "      <th>8</th>\n",
       "      <td>観光地 9</td>\n",
       "      <td>4.2</td>\n",
       "      <td>4.1</td>\n",
       "      <td>4.1</td>\n",
       "      <td>4.5</td>\n",
       "      <td>3.7</td>\n",
       "    </tr>\n",
       "    <tr>\n",
       "      <th>9</th>\n",
       "      <td>観光地 10</td>\n",
       "      <td>4.1</td>\n",
       "      <td>4.0</td>\n",
       "      <td>4.1</td>\n",
       "      <td>4.4</td>\n",
       "      <td>3.6</td>\n",
       "    </tr>\n",
       "  </tbody>\n",
       "</table>\n",
       "</div>"
      ],
      "text/plain": [
       "     観光地名   評点  楽しさ  人混みの多さ   景色  アクセス\n",
       "0   観光地 1  4.7  4.6     4.5  4.9   4.2\n",
       "1   観光地 2  4.7  4.6     4.5  4.9   4.2\n",
       "2   観光地 3  4.6  4.5     4.4  4.8   4.1\n",
       "3   観光地 4  4.5  4.4     4.4  4.8   4.0\n",
       "4   観光地 5  4.5  4.4     4.3  4.7   4.0\n",
       "5   観光地 6  4.4  4.3     4.3  4.7   3.9\n",
       "6   観光地 7  4.3  4.2     4.2  4.6   3.8\n",
       "7   観光地 8  4.3  4.2     4.2  4.6   3.8\n",
       "8   観光地 9  4.2  4.1     4.1  4.5   3.7\n",
       "9  観光地 10  4.1  4.0     4.1  4.4   3.6"
      ]
     },
     "execution_count": 181,
     "metadata": {},
     "output_type": "execute_result"
    }
   ],
   "source": [
    "df = df[['観光地名', '評点','楽しさ', '人混みの多さ', '景色', 'アクセス']]\n",
    "df"
   ]
  },
  {
   "cell_type": "code",
   "execution_count": null,
   "metadata": {},
   "outputs": [],
   "source": []
  }
 ],
 "metadata": {
  "interpreter": {
   "hash": "b0fa6594d8f4cbf19f97940f81e996739fb7646882a419484c72d19e05852a7e"
  },
  "kernelspec": {
   "display_name": "Python 3.9.12 64-bit",
   "language": "python",
   "name": "python3"
  },
  "language_info": {
   "codemirror_mode": {
    "name": "ipython",
    "version": 3
   },
   "file_extension": ".py",
   "mimetype": "text/x-python",
   "name": "python",
   "nbconvert_exporter": "python",
   "pygments_lexer": "ipython3",
   "version": "3.9.12"
  },
  "orig_nbformat": 4
 },
 "nbformat": 4,
 "nbformat_minor": 2
}
