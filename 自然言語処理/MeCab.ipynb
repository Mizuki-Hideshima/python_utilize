{
 "cells": [
  {
   "cell_type": "code",
   "execution_count": 1,
   "metadata": {},
   "outputs": [],
   "source": [
    "import MeCab"
   ]
  },
  {
   "cell_type": "code",
   "execution_count": 3,
   "metadata": {},
   "outputs": [
    {
     "name": "stdout",
     "output_type": "stream",
     "text": [
      "私\tワタクシ\tワタクシ\t私-代名詞\t代名詞\t\t\t0\n",
      "は\tワ\tハ\tは\t助詞-係助詞\t\t\t\n",
      "データ\tデータ\tデータ\tデータ-data\t名詞-普通名詞-一般\t\t\t1,0\n",
      "サイエンティスト\tサイエンティスト\tサイエンティスト\tサイエンティスト-scientist\t名詞-普通名詞-一般\t\t\t5\n",
      "です\tデス\tデス\tです\t助動詞\t助動詞-デス\t終止形-一般\t\n",
      "EOS\n",
      "\n"
     ]
    }
   ],
   "source": [
    "t = MeCab.Tagger()\n",
    "result = t.parse('私はデータサイエンティストです')\n",
    "print(result)"
   ]
  },
  {
   "cell_type": "code",
   "execution_count": 13,
   "metadata": {},
   "outputs": [
    {
     "name": "stdout",
     "output_type": "stream",
     "text": [
      "私\tワタクシ\tワタクシ\t私-代名詞\t代名詞\t\t\t0\n",
      "は\tワ\tハ\tは\t助詞-係助詞\t\t\t\n",
      "データ\tデータ\tデータ\tデータ-data\t名詞-普通名詞-一般\t\t\t1,0\n",
      "サイエンティスト\tサイエンティスト\tサイエンティスト\tサイエンティスト-scientist\t名詞-普通名詞-一般\t\t\t5\n",
      "です\tデス\tデス\tです\t助動詞\t助動詞-デス\t終止形-一般\t\n",
      "EOS\n",
      "\n"
     ]
    }
   ],
   "source": [
    "# 辞書を指定\n",
    "t = MeCab.Tagger(r'-d /opt/homebrew/lib/python3.9/site-packages/unidic_lite/dicdir')\n",
    "result = t.parse('私はデータサイエンティストです')\n",
    "print(result)"
   ]
  },
  {
   "cell_type": "code",
   "execution_count": 15,
   "metadata": {},
   "outputs": [
    {
     "name": "stdout",
     "output_type": "stream",
     "text": [
      "私 は データ サイエンティスト です \n",
      "\n",
      "['私', 'は', 'データ', 'サイエンティスト', 'です']\n"
     ]
    }
   ],
   "source": [
    "# わかち書き\n",
    "t = MeCab.Tagger(r'-O wakati')\n",
    "result = t.parse('私はデータサイエンティストです')\n",
    "print(result)\n",
    "print(result.split())"
   ]
  },
  {
   "cell_type": "code",
   "execution_count": 16,
   "metadata": {},
   "outputs": [
    {
     "name": "stdout",
     "output_type": "stream",
     "text": [
      "\n",
      "解析\n"
     ]
    }
   ],
   "source": [
    "# 特定の瀕死だけを抽出\n",
    "t = MeCab.Tagger()\n",
    "node = t.parseToNode('私はデータを解析します')\n",
    "\n",
    "while node:\n",
    "    f = node.feature\n",
    "    p = f.split(',')[0]\n",
    "    if p == '名詞':\n",
    "        print(node.surface)\n",
    "    node = node.next"
   ]
  },
  {
   "cell_type": "code",
   "execution_count": null,
   "metadata": {},
   "outputs": [],
   "source": []
  }
 ],
 "metadata": {
  "interpreter": {
   "hash": "b0fa6594d8f4cbf19f97940f81e996739fb7646882a419484c72d19e05852a7e"
  },
  "kernelspec": {
   "display_name": "Python 3.9.12 64-bit",
   "language": "python",
   "name": "python3"
  },
  "language_info": {
   "codemirror_mode": {
    "name": "ipython",
    "version": 3
   },
   "file_extension": ".py",
   "mimetype": "text/x-python",
   "name": "python",
   "nbconvert_exporter": "python",
   "pygments_lexer": "ipython3",
   "version": "3.9.12"
  },
  "orig_nbformat": 4
 },
 "nbformat": 4,
 "nbformat_minor": 2
}
